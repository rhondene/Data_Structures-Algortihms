{
 "cells": [
  {
   "cell_type": "markdown",
   "metadata": {},
   "source": [
    "## Recursion Challenges\n",
    "\n",
    "A <b> Recursive</b> problem are defined in terms of itself. \n",
    "- A recursion function aims to break downn a problem into smaller parts or simpler layers while call itself on each layer.\n",
    "\n",
    "- Recursive functions require two parts: 1) <b> base case</b> that signals when to terminate the recursion 2) <b>recursive code </b> that does the operation and calls itself.\n",
    "- <b> base case </b>. The base case is the simplest case or cases. Without a proper base case the recursion runs infinitely and results in a <i> stack overflow </i>. Learning about how <b>function call stacks</b> in python really helped me with designing and tracing recursion functions. \n",
    "- every recursive solution has an iterative variant. Sometimes writing the iterative version helps with designing the recursive version\n",
    "\n",
    "##### I found these explanations of recursion helpful in this order:\n",
    "- https://www.youtube.com/watch?v=ngCos392W4w\n",
    "- https://www.youtube.com/watch?v=KEEKn7Me-ms\n",
    "- https://www.youtube.com/watch?v=AfBqVVKg4GE"
   ]
  },
  {
   "cell_type": "markdown",
   "metadata": {},
   "source": [
    "## Challenge 1: \n",
    "You got a lot of candy from trick-or-treating this Halloween and would like to store them safely in candy jars. Each jar can store at most C candies and you got plenty of jars. <i>To distribute the candies, your plan is to divide the N candies in half, forming two smaller piles, then continue dividing each of the small piles in half until we get piles that can fit in the jars. Find how many jars you will need</i>.\n",
    "\n",
    "This strategy may not give you the least number of jars. Also note that when you divide an odd number pile in half, one of them will have one more than the other.\n",
    "\n",
    "##### Constraints\n",
    "\n",
    "1 < C < N < 10,000\n",
    "\n",
    "#### test cases:\n",
    "- N= 11; C = 3: ans=4 jars\n",
    "- N=10; C=2;  ans =  6 jars\n",
    "- N=8; C = 1; ans = 8 jars (since each jar can only hold 1 candy) "
   ]
  },
  {
   "cell_type": "code",
   "execution_count": 3,
   "metadata": {
    "scrolled": true
   },
   "outputs": [
    {
     "name": "stdout",
     "output_type": "stream",
     "text": [
      "(11,3) -->4 jars\n",
      "(8,1) -->8 jars\n",
      "(10,2) -->6 jars\n"
     ]
    }
   ],
   "source": [
    "##naive iterative versions\n",
    "N= 11; C=3\n",
    "if N > C:\n",
    "    counter = 1  #constraint is 1 < N <C <10,000\n",
    "else:\n",
    "    counter= 0 \n",
    "while N >C:\n",
    "    counter+=1\n",
    "    N =  N-C\n",
    "print(f'(11,3) -->{counter} jars')\n",
    "\n",
    "\n",
    "N= 8; C=1\n",
    "if N > C:\n",
    "    counter = 1\n",
    "else:\n",
    "    counter= 0 \n",
    "while N >C:\n",
    "    counter+=1\n",
    "    N =  N-C\n",
    "print(f'(8,1) -->{counter} jars')\n",
    "\n",
    "N= 10; C=2\n",
    "counter=1\n",
    "while N >=C:\n",
    "    counter+=1\n",
    "    N =  N-C\n",
    "print(f'(10,2) -->{counter} jars')"
   ]
  },
  {
   "cell_type": "code",
   "execution_count": 7,
   "metadata": {
    "scrolled": true
   },
   "outputs": [
    {
     "name": "stdout",
     "output_type": "stream",
     "text": [
      "5\n",
      "6 \n",
      "\n",
      "\n",
      "5\n",
      "5\n"
     ]
    }
   ],
   "source": [
    "##hint 1 for diviiding a number in halves that handles both even and odd cases \n",
    "N=11\n",
    "print( N//2)\n",
    "print((N//2 + N%2), \"\\n\\n\" )\n",
    "N=10\n",
    "print( N//2)\n",
    "print((N//2 + N%2) )"
   ]
  },
  {
   "cell_type": "code",
   "execution_count": 8,
   "metadata": {},
   "outputs": [],
   "source": [
    "\"\"\" Recursive solution \"\"\"\n",
    "def findNumJars(N, C):\n",
    "    #base case 1\n",
    "    if N>10000:\n",
    "        return\n",
    "    #base case 2\n",
    "    counter =0\n",
    "    if N <=C:\n",
    "        return 1\n",
    "    #recursive case: call the function to further divide both halves of the pile into even smaller halves\n",
    "    else: \n",
    "        counter += findNumJars(N//2,C) +  findNumJars(N//2+N%2, C)\n",
    "        return counter "
   ]
  },
  {
   "cell_type": "code",
   "execution_count": 10,
   "metadata": {},
   "outputs": [
    {
     "name": "stdout",
     "output_type": "stream",
     "text": [
      "(11,3) -->4 jars\n",
      "(10,2) -->6 jars\n",
      "(8,1) -->8 jars\n"
     ]
    }
   ],
   "source": [
    "N=11; C=3\n",
    "print(f'({N},{C}) -->{findNumJars(N,C)} jars')\n",
    "N=10; C=2\n",
    "print(f'({N},{C}) -->{findNumJars(N,C)} jars')\n",
    "N=8; C=1\n",
    "print(f'({N},{C}) -->{findNumJars(N,C)} jars')"
   ]
  },
  {
   "cell_type": "markdown",
   "metadata": {},
   "source": [
    "## Challenge 2:\n",
    "Write a function that accepts positive integers n and m, and outputs the number of unique paths starting from the top left to the bottom right corner. \n",
    "- <b>Constraint:</b> can only move downward or rightward 1 unit at a time\n"
   ]
  },
  {
   "cell_type": "code",
   "execution_count": 11,
   "metadata": {},
   "outputs": [],
   "source": [
    "def grid(n,m):\n",
    "    #base case\n",
    "    \n",
    "    if n==1 or m==1:\n",
    "        return 1\n",
    "    if n >1 or m >1: #cannot be non-zero coord\n",
    "        return 0 \n",
    "    #recursive case\n",
    "    else:\n",
    "        return grid(n-1,m)+ grid(n,m-1)\n"
   ]
  },
  {
   "cell_type": "code",
   "execution_count": 13,
   "metadata": {},
   "outputs": [],
   "source": [
    "def grid_path(n,m):\n",
    "    #base case\n",
    "    \n",
    "    if n ==1 or m==1:\n",
    "        return 1\n",
    "    else:\n",
    "        return grid_path(n-1,m)+grid_path(n,m-1)"
   ]
  },
  {
   "cell_type": "code",
   "execution_count": null,
   "metadata": {},
   "outputs": [],
   "source": []
  }
 ],
 "metadata": {
  "kernelspec": {
   "display_name": "Python 3",
   "language": "python",
   "name": "python3"
  },
  "language_info": {
   "codemirror_mode": {
    "name": "ipython",
    "version": 3
   },
   "file_extension": ".py",
   "mimetype": "text/x-python",
   "name": "python",
   "nbconvert_exporter": "python",
   "pygments_lexer": "ipython3",
   "version": "3.7.4"
  }
 },
 "nbformat": 4,
 "nbformat_minor": 2
}
