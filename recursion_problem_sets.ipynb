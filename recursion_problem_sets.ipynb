{
 "cells": [
  {
   "cell_type": "markdown",
   "metadata": {},
   "source": [
    "#### Author: Rhondene Wint\n",
    "\n",
    "## Recursion Challenges\n",
    "\n",
    "A <b> Recursive</b> problem are defined in terms of itself. \n",
    "- A recursion function aims to break downn a problem into smaller parts or simpler layers while call itself on each layer.\n",
    "\n",
    "- Recursive functions require two parts: 1) <b> base case</b> that signals when to terminate the recursion 2) <b>recursive code </b> that does the operation and calls itself.\n",
    "- <b> base case </b>. The base case is the simplest case or cases. Without a proper base case the recursion runs infinitely and results in a <i> stack overflow </i>. Learning about how <b>function call stacks</b> in python really helped me with designing and tracing recursion functions. \n",
    "- every recursive solution has an iterative variant. Sometimes writing the iterative version helps with designing the recursive version\n",
    "\n",
    "##### I found these explanations of recursion helpful in this order:\n",
    "- https://www.youtube.com/watch?v=ngCos392W4w\n",
    "- https://www.youtube.com/watch?v=KEEKn7Me-ms\n",
    "- https://www.youtube.com/watch?v=AfBqVVKg4GE"
   ]
  },
  {
   "cell_type": "markdown",
   "metadata": {},
   "source": [
    "## Challenge 1: \n",
    "You got a lot of candy from trick-or-treating this Halloween and would like to store them safely in candy jars. Each jar can store at most C candies and you got plenty of jars. <i>To distribute the candies, your plan is to divide the N candies in half, forming two smaller piles, then continue dividing each of the small piles in half until we get piles that can fit in the jars. Find how many jars you will need</i>.\n",
    "\n",
    "This strategy may not give you the least number of jars. Also note that when you divide an odd number pile in half, one of them will have one more than the other.\n",
    "\n",
    "##### Constraints\n",
    "\n",
    "1 < C < N < 10,000\n",
    "\n",
    "#### test cases:\n",
    "- N= 11; C = 3: ans=4 jars\n",
    "- N=10; C=2;  ans =  6 jars\n",
    "- N=8; C = 1; ans = 8 jars (since each jar can only hold 1 candy) "
   ]
  },
  {
   "cell_type": "code",
   "execution_count": 3,
   "metadata": {
    "scrolled": true
   },
   "outputs": [
    {
     "name": "stdout",
     "output_type": "stream",
     "text": [
      "(11,3) -->4 jars\n",
      "(8,1) -->8 jars\n",
      "(10,2) -->6 jars\n"
     ]
    }
   ],
   "source": [
    "##naive iterative versions\n",
    "N= 11; C=3\n",
    "if N > C:\n",
    "    counter = 1  #constraint is 1 < N <C <10,000\n",
    "else:\n",
    "    counter= 0 \n",
    "while N >C:\n",
    "    counter+=1\n",
    "    N =  N-C\n",
    "print(f'(11,3) -->{counter} jars')\n",
    "\n",
    "\n",
    "N= 8; C=1\n",
    "if N > C:\n",
    "    counter = 1\n",
    "else:\n",
    "    counter= 0 \n",
    "while N >C:\n",
    "    counter+=1\n",
    "    N =  N-C\n",
    "print(f'(8,1) -->{counter} jars')\n",
    "\n",
    "N= 10; C=2\n",
    "counter=1\n",
    "while N >=C:\n",
    "    counter+=1\n",
    "    N =  N-C\n",
    "print(f'(10,2) -->{counter} jars')"
   ]
  },
  {
   "cell_type": "code",
   "execution_count": 7,
   "metadata": {
    "scrolled": true
   },
   "outputs": [
    {
     "name": "stdout",
     "output_type": "stream",
     "text": [
      "5\n",
      "6 \n",
      "\n",
      "\n",
      "5\n",
      "5\n"
     ]
    }
   ],
   "source": [
    "##hint 1 for diviiding a number in halves that handles both even and odd cases \n",
    "N=11\n",
    "print( N//2)\n",
    "print((N//2 + N%2), \"\\n\\n\" )\n",
    "N=10\n",
    "print( N//2)\n",
    "print((N//2 + N%2) )"
   ]
  },
  {
   "cell_type": "code",
   "execution_count": 8,
   "metadata": {},
   "outputs": [],
   "source": [
    "\"\"\" Recursive solution \"\"\"\n",
    "def findNumJars(N, C):\n",
    "    #base case 1\n",
    "    if N>10000:\n",
    "        return\n",
    "    #base case 2\n",
    "    counter =0\n",
    "    if N <=C:\n",
    "        return 1\n",
    "    #recursive case: call the function to further divide both halves of the pile into even smaller halves\n",
    "    else: \n",
    "        counter += findNumJars(N//2,C) +  findNumJars(N//2+N%2, C)\n",
    "        return counter "
   ]
  },
  {
   "cell_type": "code",
   "execution_count": 10,
   "metadata": {},
   "outputs": [
    {
     "name": "stdout",
     "output_type": "stream",
     "text": [
      "(11,3) -->4 jars\n",
      "(10,2) -->6 jars\n",
      "(8,1) -->8 jars\n"
     ]
    }
   ],
   "source": [
    "N=11; C=3\n",
    "print(f'({N},{C}) -->{findNumJars(N,C)} jars')\n",
    "N=10; C=2\n",
    "print(f'({N},{C}) -->{findNumJars(N,C)} jars')\n",
    "N=8; C=1\n",
    "print(f'({N},{C}) -->{findNumJars(N,C)} jars')"
   ]
  },
  {
   "cell_type": "markdown",
   "metadata": {},
   "source": [
    "## Challenge 2:\n",
    "Write a function that accepts positive integers n and m, and outputs the number of unique paths starting from the top left to the bottom right corner. \n",
    "- <b>Constraint:</b> can only move downward or rightward 1 unit at a time\n"
   ]
  },
  {
   "cell_type": "code",
   "execution_count": 15,
   "metadata": {},
   "outputs": [],
   "source": [
    "def grid(n,m):\n",
    "    #base case\n",
    "    \n",
    "    if n==1 or m==1:\n",
    "        return 1\n",
    "    if n <1 or m <1: #cannot be non-zero coord\n",
    "        return 0 \n",
    "    #recursive case\n",
    "    else:\n",
    "        return grid(n-1,m)+ grid(n,m-1)\n"
   ]
  },
  {
   "cell_type": "code",
   "execution_count": 17,
   "metadata": {
    "scrolled": true
   },
   "outputs": [
    {
     "name": "stdout",
     "output_type": "stream",
     "text": [
      "2\n",
      "56\n"
     ]
    }
   ],
   "source": [
    "print(grid(2,2))\n",
    "print(grid(6,4))"
   ]
  },
  {
   "cell_type": "markdown",
   "metadata": {},
   "source": [
    "## Challenge 3 : Find Digital Root by recursion \n",
    "\n",
    "We define super digit of an integer  using the following rules:\n",
    "\n",
    "Given an integer, we need to find the super digit of the integer.\n",
    "\n",
    "If  has only  digit, then its super digit is .\n",
    "Otherwise, the super digit of  is equal to the super digit of the sum of the digits of .\n",
    "For example, the super digit of  will be calculated as:\n",
    "- super_digit(9875)   \t9+8+7+5 = 29 \n",
    "- super_digit(29) \t2 + 9 = 11\n",
    "- super_digit(11)\t\t1 + 1 = 2\n",
    "- super_digit(2)\t\t= 2  \n",
    "\n",
    "therefore super_digit(9875) = 2   \n",
    "\n",
    "\n",
    "\n",
    "You are given two numbers  and . The number  is created by concatenating the string   times. Continuing the above example where , assume your value . Your initial  (spaces added for clarity).\n",
    "- superDigit(p) = superDigit(9875987598759875)  --> 5+7+8+9+5+7+8+9+5+7+8+9+5+7+8+9 = 116\n",
    "- superDigit(p) = superDigit(116)\n",
    "                  1+1+6 = 8\n",
    "- superDigit(p) = superDigit(8)\n",
    "\n",
    "<b> n can be string or numbers or an integer, while k is an integer </b>"
   ]
  },
  {
   "cell_type": "code",
   "execution_count": 18,
   "metadata": {},
   "outputs": [],
   "source": [
    "import numpy as np"
   ]
  },
  {
   "cell_type": "code",
   "execution_count": 42,
   "metadata": {},
   "outputs": [],
   "source": [
    "def superdigit(n,k):\n",
    "    #constraints---------------------------------\n",
    "    try:\n",
    "        int(n)##all char in n should amenable to integer typecast\n",
    "    except ValueError:\n",
    "        return \n",
    "    \n",
    "    if int(n)<0 or k<1:\n",
    "        return \n",
    "    ##--------------------------------------------\n",
    "    if type(n) == str:   #eg. \"10_580\"\n",
    "        n = n.replace('_','')\n",
    "    \n",
    "    #base case1\n",
    "    if int(n)==0:\n",
    "        return 0  ##summ of 0 is zero\n",
    "    #base case 2: math trick if n%9 == 0, digital root is always 9\n",
    "    if int(n)%9 ==0:\n",
    "        return 9\n",
    "    ##recursive case: here is the main part\n",
    "    p = np.array([int(x) for x in str(n)*k])\n",
    "    \n",
    "    #base case3: last digit remains,\n",
    "    if len(p) ==1:\n",
    "        return p[0] \n",
    "    else:\n",
    "        n = p.sum()\n",
    "        return superdigit(n,k=1)"
   ]
  },
  {
   "cell_type": "code",
   "execution_count": 27,
   "metadata": {},
   "outputs": [
    {
     "data": {
      "text/plain": [
       "2"
      ]
     },
     "execution_count": 27,
     "metadata": {},
     "output_type": "execute_result"
    }
   ],
   "source": [
    "superdigit(29,1)"
   ]
  },
  {
   "cell_type": "code",
   "execution_count": 28,
   "metadata": {
    "scrolled": true
   },
   "outputs": [
    {
     "data": {
      "text/plain": [
       "9"
      ]
     },
     "execution_count": 28,
     "metadata": {},
     "output_type": "execute_result"
    }
   ],
   "source": [
    "superdigit(123,3)"
   ]
  },
  {
   "cell_type": "code",
   "execution_count": 39,
   "metadata": {},
   "outputs": [
    {
     "data": {
      "text/plain": [
       "3"
      ]
     },
     "execution_count": 39,
     "metadata": {},
     "output_type": "execute_result"
    }
   ],
   "source": [
    "superdigit(\"148\",3)"
   ]
  },
  {
   "cell_type": "code",
   "execution_count": 38,
   "metadata": {},
   "outputs": [
    {
     "data": {
      "text/plain": [
       "1"
      ]
     },
     "execution_count": 38,
     "metadata": {},
     "output_type": "execute_result"
    }
   ],
   "source": [
    "superdigit(\"10_000\",10)"
   ]
  }
 ],
 "metadata": {
  "kernelspec": {
   "display_name": "Python 3",
   "language": "python",
   "name": "python3"
  },
  "language_info": {
   "codemirror_mode": {
    "name": "ipython",
    "version": 3
   },
   "file_extension": ".py",
   "mimetype": "text/x-python",
   "name": "python",
   "nbconvert_exporter": "python",
   "pygments_lexer": "ipython3",
   "version": "3.7.4"
  }
 },
 "nbformat": 4,
 "nbformat_minor": 2
}
