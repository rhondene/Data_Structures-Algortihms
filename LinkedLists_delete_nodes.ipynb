{
 "cells": [
  {
   "cell_type": "markdown",
   "metadata": {},
   "source": [
    "Author: Rhondene Wint\n",
    "## Coding and Manipulating Linked Lists - Deleting Nodes Given Key\n",
    "\n",
    "\n",
    "- <b> Linked list</b> is data structure in which elements are store contiguously or linearly.\n",
    "- Contrast to an array, wherein array elements are separately indexed.\n",
    "<i> Disadvatanged : searching and appending in a linked list is linear O(n)</i>\n",
    "<h4> Advantages/Rationale</h4>\n",
    "- Insertions (prepending) and deletions are O(1) i.e. constant\n",
    "- Dynamic size:  because size of arrays are fixed so deletions and insertions are expensive since you have to know the size of the array to an insertion, and elements have to be moved around to create new space when editing the array\n",
    "\n",
    "<h4> Disadvantage</h4>\n",
    "-  Only sequential access so no random access since it's organised contiguously\n",
    "- need to allocate extra memory for pointer for each element.\n",
    "- Can't do constant-time random access\n",
    "\n"
   ]
  },
  {
   "cell_type": "markdown",
   "metadata": {},
   "source": [
    "##### Ways to delete a node\n",
    "1. Given a key , delete the first instance of a node that matches the key - <i>worst case is O(n) if key matches tail node</i>\n",
    "2. Given a key, delete all instances of nodes that matches key - <i>O(n) operation</i>\n",
    "\n",
    "#### Pointer manipulation strategy -  Skip over matching nodes\n",
    "1. keep track of previous node (prev_node) and current node (curr_node)\n",
    "2. <b>True  Edge Case </b>: if key matches data in head \n",
    "    1. store head.next as temp\n",
    "    2. delete head\n",
    "    3. set new head as temp\n",
    "3. <b> True Case- if current node matches key </b>:\n",
    "    1. store curr_node.next in \"temp\"\n",
    "    2. set pointer of previous node to curr_node.next\n",
    "    3. delete curr_node to free memory using \"del\"\n",
    "    4. decrement size of linked list by 1\n",
    "    5. set current node as temp. Previous node is not updated\n",
    "    \n",
    "4. <b>False Case - if current node does NOT match key </b>\n",
    "    \n",
    "    move one step forward by :\n",
    "    1. set prev_node as current node\n",
    "    2. set current node as curr_node.next\n",
    "    \n"
   ]
  },
  {
   "cell_type": "code",
   "execution_count": 1,
   "metadata": {},
   "outputs": [],
   "source": [
    "\"\"\"1. Create the node class\"\"\"\n",
    "class Node(object):\n",
    "    def __init__(self, data):\n",
    "        self.data =  data\n",
    "        self.next = None\n",
    "     \n",
    "    def set_data(self, data):\n",
    "        self.data = data\n",
    "    def get_data(self):\n",
    "        return self.data\n",
    "    def set_next(self, next):\n",
    "        self.next = next\n",
    "    def get_next(self):\n",
    "        return self.next\n",
    "\n",
    "\"\"\" 2. Linked list class\"\"\"\n",
    "\n",
    "class LinkedList(object):\n",
    "    def __init__(self, head=None):\n",
    "        self.head = head\n",
    "        self.size=0\n",
    "    \n",
    "    def get_size(self):\n",
    "        return self.size\n",
    "    \n",
    "    def print_list(self):\n",
    "        items = []\n",
    "        curr_node= self.head\n",
    "        while curr_node:\n",
    "            items.append(curr_node.get_data())\n",
    "            curr_node = curr_node.get_next()\n",
    "        return items\n",
    "    #insert data by pushing\n",
    "    def insert_push(self,data):\n",
    "        new_node =  Node(data)\n",
    "        new_node.set_next(self.head)\n",
    "        self.head= new_node\n",
    "        self.size+=1\n",
    "        \n",
    "    \"\"\"-----------Deletion operations now-------------------\"\"\"\n",
    "    \n",
    "    #1. Delete first instance of a node based on a key\n",
    "    def delete_first(self, key):\n",
    "        #exit if list is empty\n",
    "        if self.head == None:\n",
    "            return\n",
    "        #if key matches head node\n",
    "        if self.head.get_data()==key:\n",
    "            temp = self.head.get_next()\n",
    "            del self.head\n",
    "            self.head = temp\n",
    "            self.size-=1\n",
    "            return \n",
    "        \n",
    "        prev_node = None\n",
    "        curr_node = self.head\n",
    "        while curr_node:\n",
    "            if curr_node.get_data()==key:\n",
    "                prev_node.set_next(curr_node.get_next())\n",
    "                del curr_node\n",
    "                self.size-=1\n",
    "                return \"First instance of item deleted!\"\n",
    "            else:\n",
    "                prev_node= curr_node\n",
    "                curr_node= curr_node.get_next()\n",
    "        \n",
    "        return \"Item not in List!\"      \n",
    "    \n",
    "    #2. Delete all instance of a key (O(n) worse case is tail node)\n",
    "    \n",
    "    def delete_all(self,key):\n",
    "        #exit if list is empty\n",
    "        if self.head == None:\n",
    "            return\n",
    "        \n",
    "        size_before = self.get_size()\n",
    "        \n",
    "        #edge case if/when key is in headif self.head.get_data()==key:\n",
    "        if self.head.get_data()==key:\n",
    "            temp = self.head.get_next()\n",
    "            del self.head\n",
    "            self.head = temp\n",
    "            self.size-=1\n",
    "            \n",
    "        prev_node=None   \n",
    "        curr_node = self.head\n",
    "        while curr_node:\n",
    "            if curr_node.get_data()==key:\n",
    "                prev_node.set_next(curr_node.get_next())\n",
    "                del curr_node\n",
    "                self.size-=1\n",
    "                curr_node =  prev_node.get_next()  ##previous node doesn't get updated when there is a True case\n",
    "            else:\n",
    "                prev_node = curr_node\n",
    "                curr_node =curr_node.get_next()\n",
    "                \n",
    "        size_after = self.get_size()\n",
    "        if size_before==size_after:\n",
    "            return \"Item not in List!\"\n",
    "        else:\n",
    "            return "
   ]
  },
  {
   "cell_type": "markdown",
   "metadata": {},
   "source": [
    "### Test the code"
   ]
  },
  {
   "cell_type": "code",
   "execution_count": 2,
   "metadata": {},
   "outputs": [
    {
     "data": {
      "text/plain": [
       "[20, 9, 3, 6, 5, 4, 3, 10]"
      ]
     },
     "execution_count": 2,
     "metadata": {},
     "output_type": "execute_result"
    }
   ],
   "source": [
    "#build our linked list \n",
    "ll = LinkedList()\n",
    "items = [10,3,4,5,6,3,9,20]\n",
    "for i in items:\n",
    "    ll.insert_push(i)\n",
    "ll.print_list()"
   ]
  },
  {
   "cell_type": "code",
   "execution_count": 3,
   "metadata": {
    "scrolled": true
   },
   "outputs": [
    {
     "data": {
      "text/plain": [
       "'Item not in List!'"
      ]
     },
     "execution_count": 3,
     "metadata": {},
     "output_type": "execute_result"
    }
   ],
   "source": [
    "##1. delete only first instance - negative case\n",
    "ll.delete_first(100)"
   ]
  },
  {
   "cell_type": "code",
   "execution_count": 4,
   "metadata": {},
   "outputs": [
    {
     "data": {
      "text/plain": [
       "[9, 3, 6, 5, 4, 3, 10]"
      ]
     },
     "execution_count": 4,
     "metadata": {},
     "output_type": "execute_result"
    }
   ],
   "source": [
    "##1. delete only first instance - true case\n",
    "ll.delete_first(20)\n",
    "ll.print_list()"
   ]
  },
  {
   "cell_type": "code",
   "execution_count": 5,
   "metadata": {},
   "outputs": [
    {
     "data": {
      "text/plain": [
       "[9, 6, 5, 4, 10]"
      ]
     },
     "execution_count": 5,
     "metadata": {},
     "output_type": "execute_result"
    }
   ],
   "source": [
    "##2. delete all instances - true case\n",
    "ll.delete_all(3)\n",
    "ll.print_list()"
   ]
  },
  {
   "cell_type": "code",
   "execution_count": 7,
   "metadata": {},
   "outputs": [
    {
     "data": {
      "text/plain": [
       "'Item not in List!'"
      ]
     },
     "execution_count": 7,
     "metadata": {},
     "output_type": "execute_result"
    }
   ],
   "source": [
    "##2. delete all instances - neagtive case\n",
    "ll.delete_all(300)"
   ]
  }
 ],
 "metadata": {
  "kernelspec": {
   "display_name": "Python 3",
   "language": "python",
   "name": "python3"
  },
  "language_info": {
   "codemirror_mode": {
    "name": "ipython",
    "version": 3
   },
   "file_extension": ".py",
   "mimetype": "text/x-python",
   "name": "python",
   "nbconvert_exporter": "python",
   "pygments_lexer": "ipython3",
   "version": "3.7.4"
  }
 },
 "nbformat": 4,
 "nbformat_minor": 2
}
