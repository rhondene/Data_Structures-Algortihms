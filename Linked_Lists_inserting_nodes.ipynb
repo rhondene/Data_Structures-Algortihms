{
 "cells": [
  {
   "cell_type": "markdown",
   "metadata": {},
   "source": [
    "#### Author: Rhondene Wint\n",
    "\n",
    "## Coding and Manipulating Linked Lists - Inserting nodes\n",
    "\n",
    "\n",
    "- <b> Linked list</b> is data structure in which elements are store contiguously or linearly.\n",
    "- Contrast to an array, wherein array elements are separately indexed.\n",
    "<i> Disadvatanged : searching and appending in a linked list is linear O(n)</i>\n",
    "<h4> Advantages/Rationale</h4>\n",
    "- Insertions (prepending) and deletions are O(1) i.e. constant\n",
    "- Dynamic size:  because size of arrays are fixed so deletions and insertions are expensive since you have to know the size of the array to an insertion, and elements have to be moved around to create new space when editing the array\n",
    "\n",
    "<h4> Disadvantage</h4>\n",
    "-  Only sequential access so no random access since it's organised contiguously\n",
    "- need to allocate extra memory for pointer for each element.\n",
    "- Can't do constant-time random access"
   ]
  },
  {
   "cell_type": "markdown",
   "metadata": {},
   "source": [
    "# Inserting nodes \n",
    "##### A new node can be be added in 3 ways\n",
    "- By prepending to the list by making it the new head. I.e. Push operation <i> O(1) time complexity</i>\n",
    "- By appending to the tail of the current list. Because we have to traverse the entire list this is <i>O(n) operation</i>\n",
    "- By inserting in between two nodes <i> O(n) </i>"
   ]
  },
  {
   "cell_type": "code",
   "execution_count": 3,
   "metadata": {},
   "outputs": [],
   "source": [
    "\"\"\" 1. create the Node class\"\"\"\n",
    "class Node(object):\n",
    "    def __init__(self,data): ##constructor always have data and next being None\n",
    "        self.data = data\n",
    "        self.next = None  ##initialise next node as None\n",
    "        \n",
    "    #methods for node operations \n",
    "    def set_data(self,data):\n",
    "        self.data = data \n",
    "    def get_data(self):\n",
    "        return self.data\n",
    "    \n",
    "    #methods for next node \n",
    "    def set_next(self,next):\n",
    "        self.next = next\n",
    "    def get_next(self):\n",
    "        return self.next\n",
    "    \n",
    "\"\"\"2. Create linked list class\"\"\"\n",
    "class LinkedList(object):\n",
    "    \"\"\"-------------------Basic LinkedList Operations------------------------------\"\"\"\n",
    "    def __init__(self, head=None):  ##always initialise with head/root node\n",
    "        self.head = head\n",
    "        self.size = 0  #every linked list has a size\n",
    "    \n",
    "    def get_size(self):\n",
    "        return self.size\n",
    "    def print_list(self):\n",
    "        items = []\n",
    "        curr_node= self.head\n",
    "        while curr_node:\n",
    "            items.append(curr_node.get_data())\n",
    "            curr_node = curr_node.get_next()\n",
    "        return items\n",
    "    \n",
    " \n",
    "        \n",
    "    \"\"\"-------------------Insert operations------------------------------\"\"\"\n",
    "    # 1. Insert by push O(1)\n",
    "    def insert_push(self,data):\n",
    "        #create new node from Node class\n",
    "        new_node = Node(data)\n",
    "        #let new node point to head\n",
    "        new_node.set_next(self.head) \n",
    "        self.head = new_node\n",
    "        #update size of list\n",
    "        self.size+=1\n",
    "        return \n",
    "    \n",
    "    #2. Insert by appending to end of list (O(n)). \n",
    "    def insert_tail(self,data):\n",
    "        new_node = Node(data)\n",
    "        \n",
    "        if self.head == None: #list is empty\n",
    "            #set head as new node\n",
    "            self.head = new_node\n",
    "            self.size+=1\n",
    "            return \n",
    "        \n",
    "        tail_node = None\n",
    "        curr_node = self.head\n",
    "        #traverse the list until the tail node is reached. Recall that the tail node points to None\n",
    "        while curr_node: ##loop terminates when curr_node== None\n",
    "            tail_node= curr_node\n",
    "            curr_node = curr_node.get_next()  \n",
    "        \n",
    "        tail_node.set_next(new_node)\n",
    "        new_node.set_next(None)\n",
    "        self.size+=1\n",
    "        return \n",
    "    \n",
    "    #3. Insert a new node after a specified node at given index \n",
    "    def insertAfter_idx(self,data, idx):\n",
    "        #--------edge case -------\n",
    "        #ensure the given index exist within list\n",
    "        if idx > self.size-1:\n",
    "            return \"Error: Index is outside of current list!\"\n",
    "        ##if its last index then its a tail operation\n",
    "        if idx ==self.size-1:\n",
    "            self.insert_tail(data)\n",
    "            return\n",
    "        \n",
    "        new_node = Node(data)\n",
    "        curr_node = self.head\n",
    "        counter = 0\n",
    "        while curr_node:\n",
    "            if counter == idx:\n",
    "                new_node.set_next(curr_node.get_next())\n",
    "                curr_node.set_next(new_node)\n",
    "                self.size+=1\n",
    "                return\n",
    "            else:\n",
    "                counter+=1\n",
    "                curr_node=curr_node.get_next()\n",
    "        return\n",
    "    \n",
    "    #3b. if the previous node is given as an argument instead\n",
    "    def insertAfter_node(self, data, prev_node=None):\n",
    "        if prev_node==None:\n",
    "            return \"Node does not exist in List\"\n",
    "        else:\n",
    "            new_node= Node(data)\n",
    "            new_node.set_next(prev_node.get_next())\n",
    "            prev_node.set_next(new_node)"
   ]
  },
  {
   "cell_type": "markdown",
   "metadata": {},
   "source": [
    "## Profile Performance of each Insertion operation "
   ]
  },
  {
   "cell_type": "code",
   "execution_count": 8,
   "metadata": {},
   "outputs": [],
   "source": [
    "import time"
   ]
  },
  {
   "cell_type": "code",
   "execution_count": 4,
   "metadata": {
    "scrolled": true
   },
   "outputs": [
    {
     "name": "stdout",
     "output_type": "stream",
     "text": [
      "1000\n",
      "Wall time: 2.02 ms\n"
     ]
    }
   ],
   "source": [
    "%%time\n",
    "ll = LinkedList()\n",
    "\n",
    "for i in range(1000):\n",
    "    ll.insert_push(i)\n",
    "print(ll.get_size())"
   ]
  },
  {
   "cell_type": "code",
   "execution_count": 5,
   "metadata": {},
   "outputs": [
    {
     "name": "stdout",
     "output_type": "stream",
     "text": [
      "Wall time: 219 ms\n"
     ]
    },
    {
     "data": {
      "text/plain": [
       "1000"
      ]
     },
     "execution_count": 5,
     "metadata": {},
     "output_type": "execute_result"
    }
   ],
   "source": [
    "%%time\n",
    "ll = LinkedList()\n",
    "for i in range(1000):\n",
    "    ll.insert_tail(i)\n",
    "ll.get_size()"
   ]
  },
  {
   "cell_type": "code",
   "execution_count": 6,
   "metadata": {
    "scrolled": true
   },
   "outputs": [
    {
     "data": {
      "text/plain": [
       "1000"
      ]
     },
     "execution_count": 6,
     "metadata": {},
     "output_type": "execute_result"
    }
   ],
   "source": [
    "##create a new linked list to test internal insertions\n",
    "ll = LinkedList()\n",
    "for i in range(1000):\n",
    "    ll.insert_push(i)\n",
    "ll.get_size()"
   ]
  },
  {
   "cell_type": "code",
   "execution_count": 10,
   "metadata": {},
   "outputs": [
    {
     "name": "stdout",
     "output_type": "stream",
     "text": [
      "4.94 µs ± 388 ns per loop (mean ± std. dev. of 7 runs, 100000 loops each)\n"
     ]
    }
   ],
   "source": [
    "%%timeit\n",
    "ll.insertAfter_idx(\"abba\",2) "
   ]
  },
  {
   "cell_type": "code",
   "execution_count": 11,
   "metadata": {},
   "outputs": [
    {
     "name": "stdout",
     "output_type": "stream",
     "text": [
      "380 µs ± 56.9 µs per loop (mean ± std. dev. of 7 runs, 1000 loops each)\n"
     ]
    }
   ],
   "source": [
    "%%timeit\n",
    "ll.insertAfter_idx(\"abba\",800)"
   ]
  }
 ],
 "metadata": {
  "kernelspec": {
   "display_name": "Python 3",
   "language": "python",
   "name": "python3"
  },
  "language_info": {
   "codemirror_mode": {
    "name": "ipython",
    "version": 3
   },
   "file_extension": ".py",
   "mimetype": "text/x-python",
   "name": "python",
   "nbconvert_exporter": "python",
   "pygments_lexer": "ipython3",
   "version": "3.7.4"
  }
 },
 "nbformat": 4,
 "nbformat_minor": 2
}
